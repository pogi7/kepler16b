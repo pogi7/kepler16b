{
 "cells": [
  {
   "cell_type": "code",
   "execution_count": 2,
   "metadata": {},
   "outputs": [
    {
     "data": {
      "text/html": [
       "<div class=\"krn-spql\"><div class=\"krn-error\"><span class=\"title\">Error:</span> magic not found: pip</div></div>"
      ],
      "text/plain": [
       "Error: magic not found: pip"
      ]
     },
     "metadata": {},
     "output_type": "display_data"
    }
   ],
   "source": [
    "# Switch to Python Kernel.  Only need to run this once\n",
    "%pip install sparqlkernel\n",
    "# Replace <username> with your MacOS username\n",
    "!jupyter sparqlkernel install --user <username>"
   ]
  },
  {
   "attachments": {},
   "cell_type": "markdown",
   "metadata": {},
   "source": [
    "# Kebler16b\n",
    "Technical Report, 4 March 2023\n",
    "\n",
    "This version:  \n",
    "&nbsp;&nbsp;&nbsp;&nbsp;https://github.com/melaasar/kepler\n",
    "\n",
    "Issue Tracking:  \n",
    "&nbsp;&nbsp;&nbsp;&nbsp;[GitHub](https://github.com/melaasar/kepler)\n",
    "    \n",
    "Editor:  \n",
    "&nbsp;&nbsp;&nbsp;&nbsp;[Maged Elaasar](https://www.opencaesar.io/contributors/Maged%20Elaasar.html)\n",
    "\n",
    "Copyright © 2023 Maged Elaasar.\n",
    "\n",
    "---"
   ]
  },
  {
   "attachments": {},
   "cell_type": "markdown",
   "metadata": {},
   "source": [
    "## 1.  Objectives\n",
    "\n",
    "The following are the objectives of the Kepler13b project:"
   ]
  },
  {
   "cell_type": "code",
   "execution_count": 4,
   "metadata": {},
   "outputs": [
    {
     "data": {
      "text/html": [
       "<div class=\"krn-spql\"><div class=\"magic\">Endpoint set to: http://localhost:3030/kepler16b/sparql</div><div class=\"magic\">Display: table<br/>Show Types: on</div></div>"
      ],
      "text/plain": [
       "Endpoint set to: http://localhost:3030/kepler16b/sparql\n",
       "Display: table\n",
       "Show Types: on\n"
      ]
     },
     "metadata": {},
     "output_type": "display_data"
    },
    {
     "data": {
      "text/html": [
       "<div class=\"krn-spql\"><table><tr class=hdr><th>o_id</th><th>type</th>\n",
       "<th>o_name</th><th>type</th></tr><tr class=odd><td class=val>O.01</td><td class=typ>literal, none</td>\n",
       "<td class=val>Characterize the atmosphere of Kepler 16b</td><td class=typ>literal, none</td></tr><tr class=even><td class=val>O.02</td><td class=typ>literal, none</td>\n",
       "<td class=val>Characterize the liquid ocean of Kepler 16b</td><td class=typ>literal, none</td></tr><tr class=odd><td class=val>O.03</td><td class=typ>literal, none</td>\n",
       "<td class=val>Characterize the gravitational field of Kepler 16b</td><td class=typ>literal, none</td></tr><tr class=even><td class=val>O.04</td><td class=typ>literal, none</td>\n",
       "<td class=val>Characterize the rocky core of Kepler 16b</td><td class=typ>literal, none</td></tr><tr class=odd><td class=val>O.05</td><td class=typ>literal, none</td>\n",
       "<td class=val>Characterize the core density of Kepler 16b</td><td class=typ>literal, none</td></tr><tr class=even><td class=val>O.06</td><td class=typ>literal, none</td>\n",
       "<td class=val>Characterize the core shape of Kepler 16b</td><td class=typ>literal, none</td></tr><tr class=odd><td class=val>O.07</td><td class=typ>literal, none</td>\n",
       "<td class=val>Characterize the energetic particule environment of the Kepler 16b binary star system</td><td class=typ>literal, none</td></tr></table><div class=\"tinfo\">Total: 7, Shown: 7</div></div>"
      ]
     },
     "metadata": {},
     "output_type": "display_data"
    }
   ],
   "source": [
    "%endpoint http://localhost:3030/kepler16b/sparql\n",
    "%display table withTypes\n",
    "\n",
    "PREFIX base:        <http://example.com/vocabulary/base#>\n",
    "PREFIX mission:     <http://example.com/vocabulary/mission#>\n",
    "\n",
    "SELECT DISTINCT ?o_id ?o_name\n",
    "\n",
    "WHERE {\n",
    "\t?obj a mission:Objective ;\n",
    "\t     base:hasIdentifier ?o_id ;\n",
    "\t     base:hasCanonicalName ?o_name .\n",
    "}\n",
    "ORDER BY ?o_id\n"
   ]
  }
 ],
 "metadata": {
  "kernelspec": {
   "display_name": "SPARQL",
   "language": "sparql",
   "name": "sparql"
  },
  "language_info": {
   "codemirror_mode": {
    "name": "sparql"
   },
   "mimetype": "application/sparql-query",
   "name": "sparql",
   "pygments_lexer": "sparql-nb"
  },
  "orig_nbformat": 4
 },
 "nbformat": 4,
 "nbformat_minor": 2
}

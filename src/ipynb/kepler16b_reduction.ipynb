{
 "cells": [
  {
   "cell_type": "code",
   "execution_count": 78,
   "metadata": {},
   "outputs": [
    {
     "data": {
      "text/markdown": [
       "# Kebler16b"
      ],
      "text/plain": [
       "<IPython.core.display.Markdown object>"
      ]
     },
     "metadata": {},
     "output_type": "display_data"
    },
    {
     "data": {
      "text/markdown": [
       "Technical Report, 2023-03-08"
      ],
      "text/plain": [
       "<IPython.core.display.Markdown object>"
      ]
     },
     "metadata": {},
     "output_type": "display_data"
    },
    {
     "data": {
      "text/markdown": [
       "This version: "
      ],
      "text/plain": [
       "<IPython.core.display.Markdown object>"
      ]
     },
     "metadata": {},
     "output_type": "display_data"
    },
    {
     "data": {
      "text/markdown": [
       "&nbsp;&nbsp;&nbsp;&nbsp;https://github.com/melaasar/kepler"
      ],
      "text/plain": [
       "<IPython.core.display.Markdown object>"
      ]
     },
     "metadata": {},
     "output_type": "display_data"
    },
    {
     "data": {
      "text/markdown": [
       "Issue Tracking:"
      ],
      "text/plain": [
       "<IPython.core.display.Markdown object>"
      ]
     },
     "metadata": {},
     "output_type": "display_data"
    },
    {
     "data": {
      "text/markdown": [
       "&nbsp;&nbsp;&nbsp;&nbsp;https://github.com/melaasar/kepler"
      ],
      "text/plain": [
       "<IPython.core.display.Markdown object>"
      ]
     },
     "metadata": {},
     "output_type": "display_data"
    },
    {
     "data": {
      "text/markdown": [
       "# Editor: "
      ],
      "text/plain": [
       "<IPython.core.display.Markdown object>"
      ]
     },
     "metadata": {},
     "output_type": "display_data"
    },
    {
     "data": {
      "text/markdown": [
       "&nbsp;&nbsp;&nbsp;&nbsp;[Maged Elaasar](https://www.opencaesar.io/contributors/Maged%20Elaasar.html)"
      ],
      "text/plain": [
       "<IPython.core.display.Markdown object>"
      ]
     },
     "metadata": {},
     "output_type": "display_data"
    },
    {
     "data": {
      "text/markdown": [
       "Copyright © 2023 Maged Elaasar"
      ],
      "text/plain": [
       "<IPython.core.display.Markdown object>"
      ]
     },
     "metadata": {},
     "output_type": "display_data"
    },
    {
     "data": {
      "text/markdown": [
       "---"
      ],
      "text/plain": [
       "<IPython.core.display.Markdown object>"
      ]
     },
     "metadata": {},
     "output_type": "display_data"
    }
   ],
   "source": [
    "from datetime import datetime\n",
    "from IPython.display import display, Markdown\n",
    "\n",
    "this_year = str(datetime.now().year)\n",
    "todays_date = str(datetime.now().date())\n",
    "\n",
    "display(Markdown(\"# Kebler16b\"))\n",
    "display(Markdown(f\"Technical Report, {todays_date}\"))\n",
    "display(Markdown(\"This version: \"))\n",
    "display(Markdown(\"&nbsp;&nbsp;&nbsp;&nbsp;https://github.com/melaasar/kepler\"))\n",
    "display(Markdown(\"Issue Tracking:\"))\n",
    "display(Markdown(\"&nbsp;&nbsp;&nbsp;&nbsp;https://github.com/melaasar/kepler\"))\n",
    "display(Markdown(\"# Editor: \"))\n",
    "display(Markdown(\"&nbsp;&nbsp;&nbsp;&nbsp;[Maged Elaasar](https://www.opencaesar.io/contributors/Maged%20Elaasar.html)\"))\n",
    "display(Markdown(f'Copyright © {this_year} Maged Elaasar'))\n",
    "display(Markdown(f'---'))"
   ]
  },
  {
   "attachments": {},
   "cell_type": "markdown",
   "metadata": {},
   "source": [
    "## 1.  Objectives\n",
    "\n",
    "The following are the objectives of the Kepler16b project:"
   ]
  },
  {
   "cell_type": "code",
   "execution_count": 179,
   "metadata": {},
   "outputs": [
    {
     "name": "stdout",
     "output_type": "stream",
     "text": [
      "╒════════╤═══════════════════════════════════════════════════════════════════════════════════════╕\n",
      "│ o_id   │ o_name                                                                                │\n",
      "╞════════╪═══════════════════════════════════════════════════════════════════════════════════════╡\n",
      "│ O.01   │ Characterize the atmosphere of Kepler 16b                                             │\n",
      "├────────┼───────────────────────────────────────────────────────────────────────────────────────┤\n",
      "│ O.02   │ Characterize the liquid ocean of Kepler 16b                                           │\n",
      "├────────┼───────────────────────────────────────────────────────────────────────────────────────┤\n",
      "│ O.03   │ Characterize the gravitational field of Kepler 16b                                    │\n",
      "├────────┼───────────────────────────────────────────────────────────────────────────────────────┤\n",
      "│ O.04   │ Characterize the rocky core of Kepler 16b                                             │\n",
      "├────────┼───────────────────────────────────────────────────────────────────────────────────────┤\n",
      "│ O.05   │ Characterize the core density of Kepler 16b                                           │\n",
      "├────────┼───────────────────────────────────────────────────────────────────────────────────────┤\n",
      "│ O.06   │ Characterize the core shape of Kepler 16b                                             │\n",
      "├────────┼───────────────────────────────────────────────────────────────────────────────────────┤\n",
      "│ O.07   │ Characterize the energetic particule environment of the Kepler 16b binary star system │\n",
      "╘════════╧═══════════════════════════════════════════════════════════════════════════════════════╛\n"
     ]
    }
   ],
   "source": [
    "from tabulate import tabulate\n",
    "import os\n",
    "import json\n",
    "\n",
    "# TODO: Must have built objectives.json with ./gradlew query\n",
    "# Grabs objectives.json JSON payload and loads it into 'data\n",
    "def get_relative_json_path(file_name: str):\n",
    "    \"\"\" Gets JSON file using a relative path.  Assumes that function is run from file.\"\"\"\n",
    "    absolute_json_path = os.path.abspath('')\n",
    "    relative_json_path = f\"build/json/{file_name}\"\n",
    "    full_json_path = os.path.join(absolute_json_path, \"..\", \"..\", relative_json_path)\n",
    "    with open(f\"{full_json_path}\", \"r\") as f:\n",
    "        return json.load(f)\n",
    "\n",
    "# Derives from objectives.json\n",
    "VARS: list = get_relative_json_path('objectives.json')[\"head\"][\"vars\"]\n",
    "OBJECTIVES: list = get_relative_json_path('objectives.json')[\"results\"][\"bindings\"]\n",
    "\n",
    "def get_nested_values_from_key(dictionary: dict, key: str, value: str):\n",
    "    \"\"\" Gets nested values from a specifc key in a dictionary.\n",
    "      Example: data = {'o_id': {'type': 'literal', 'value': 'O.01'}, 'o_name': {'type': 'literal', 'value': 'Characterize the atmosphere of Kepler 16b'}}\n",
    "        get_nested_values_from_key(data, o_id, value)\n",
    "        >> [O.01]\"\"\"\n",
    "    return [d.get(key, {}).get(value) for d in dictionary]\n",
    "\n",
    "# Objective dictionary\n",
    "o_dict = dict()\n",
    "\n",
    "for v in VARS:\n",
    "    o_dict[v] = get_nested_values_from_key(OBJECTIVES, v, 'value')\n",
    "    \n",
    "print(tabulate(o_dict, headers=\"keys\", tablefmt=\"fancy_grid\"))\n"
   ]
  }
 ],
 "metadata": {
  "kernelspec": {
   "display_name": "Python 3",
   "language": "python",
   "name": "python3"
  },
  "language_info": {
   "codemirror_mode": {
    "name": "ipython",
    "version": 3
   },
   "file_extension": ".py",
   "mimetype": "text/x-python",
   "name": "python",
   "nbconvert_exporter": "python",
   "pygments_lexer": "ipython3",
   "version": "3.11.2"
  },
  "orig_nbformat": 4
 },
 "nbformat": 4,
 "nbformat_minor": 2
}
